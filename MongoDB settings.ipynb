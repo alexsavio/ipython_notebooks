{
 "metadata": {
  "name": ""
 },
 "nbformat": 3,
 "nbformat_minor": 0,
 "worksheets": [
  {
   "cells": [
    {
     "cell_type": "markdown",
     "metadata": {},
     "source": [
      "# Setting up a MongoDB collection"
     ]
    },
    {
     "cell_type": "markdown",
     "metadata": {},
     "source": [
      " Execute mongo shell:\n",
      " \n",
      "    mongo"
     ]
    },
    {
     "cell_type": "markdown",
     "metadata": {},
     "source": [
      " Adding admin user (as executed in buccaneer):\n",
      "\n",
      "    db = db.getSiblingDB('admin')\n",
      "    \n",
      "    db.addUser( { user: \"alexandre\",\n",
      "                  pwd: \"****************************\",\n",
      "                  roles: [ \"userAdminAnyDatabase\" ] } )"
     ]
    },
    {
     "cell_type": "markdown",
     "metadata": {},
     "source": [
      " Adding collection admin user (as executed in buccaneer):\n",
      "\n",
      "    use admin\n",
      "    db.auth(\"alexandre\", \"**************************\");\n",
      "    \n",
      "    use sands\n",
      "    db.addUser( { user: \"sands\",\n",
      "                  pwd: \"**************************\",\n",
      "                  roles: [ \"userAdmin\" ] } )\n"
     ]
    },
    {
     "cell_type": "markdown",
     "metadata": {},
     "source": [
      " Generating SSL key (as executed in buccaneer):\n",
      "\n",
      "    openssl rand -base64 741 >> ~/Dropbox/Documents/work/sands/sands-edb/keyfile"
     ]
    },
    {
     "cell_type": "markdown",
     "metadata": {},
     "source": [
      "#### Edit /etc/mongodb.conf\n",
      " \n",
      " Uncomment:\n",
      "\n",
      "    auth=true"
     ]
    },
    {
     "cell_type": "markdown",
     "metadata": {},
     "source": [
      "#### Restart mongodb service:\n",
      "\n",
      "    sudo service mongodb restart"
     ]
    },
    {
     "cell_type": "markdown",
     "metadata": {},
     "source": [
      "#REFERENCES\n",
      "\n",
      "http://docs.mongodb.org/manual/tutorial/enable-authentication/\n",
      "\n",
      "http://docs.mongodb.org/manual/tutorial/add-user-administrator/\n",
      "\n",
      "http://docs.mongodb.org/manual/tutorial/generate-key-file/"
     ]
    }
   ],
   "metadata": {}
  }
 ]
}