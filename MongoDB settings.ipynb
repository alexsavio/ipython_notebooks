{
 "metadata": {
  "name": ""
 },
 "nbformat": 3,
 "nbformat_minor": 0,
 "worksheets": [
  {
   "cells": [
    {
     "cell_type": "raw",
     "metadata": {},
     "source": [
      "mongo"
     ]
    },
    {
     "cell_type": "raw",
     "metadata": {},
     "source": [
      "#As executed in buccaneer\n",
      "db = db.getSiblingDB('admin')\n",
      "\n",
      "db.addUser( { user: \"alexandre\",\n",
      "              pwd: \"bottles beaches modified persuasive\",\n",
      "              roles: [ \"userAdminAnyDatabase\" ] } )"
     ]
    },
    {
     "cell_type": "raw",
     "metadata": {},
     "source": [
      "use admin\n",
      "db.auth(\"alexandre\", \"bottles beaches modified persuasive\");\n",
      "\n",
      "use sands\n",
      "db.addUser( { user: \"sands\",\n",
      "              pwd: \"unprepared ices false tripping\",\n",
      "              roles: [ \"userAdmin\" ] } )\n"
     ]
    },
    {
     "cell_type": "raw",
     "metadata": {},
     "source": [
      "#As executed in buccaneer\n",
      "#GENERATING A KEY FILE\n",
      "!openssl rand -base64 741 >> ~/Dropbox/Documents/work/sands/sands-edb/keyfile"
     ]
    },
    {
     "cell_type": "raw",
     "metadata": {},
     "source": [
      "#Edit /etc/mongodb.conf\n",
      "Uncomment:\n",
      "    auth=true"
     ]
    },
    {
     "cell_type": "raw",
     "metadata": {},
     "source": [
      "!sudo service mongodb restart"
     ]
    },
    {
     "cell_type": "markdown",
     "metadata": {},
     "source": [
      "#REFERENCES\n",
      "\n",
      "http://docs.mongodb.org/manual/tutorial/enable-authentication/\n",
      "\n",
      "http://docs.mongodb.org/manual/tutorial/add-user-administrator/\n",
      "\n",
      "http://docs.mongodb.org/manual/tutorial/generate-key-file/"
     ]
    }
   ],
   "metadata": {}
  }
 ]
}