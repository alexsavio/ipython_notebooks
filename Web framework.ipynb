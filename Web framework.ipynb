{
 "metadata": {
  "name": ""
 },
 "nbformat": 3,
 "nbformat_minor": 0,
 "worksheets": [
  {
   "cells": [
    {
     "cell_type": "markdown",
     "metadata": {},
     "source": [
      "# Installing Web development frameworks"
     ]
    },
    {
     "cell_type": "markdown",
     "metadata": {},
     "source": [
      " Create virtualenv for Sands (python 2.7.5)\n",
      " \n",
      "    mkvirtualenv -p /usr/bin/python2.7 sands\n",
      "\n",
      " Note that you are using the virtualenv: (sands) in the beggining of the shell line.\n",
      "\n",
      "    pip install ipython[all]"
     ]
    },
    {
     "cell_type": "markdown",
     "metadata": {},
     "source": [
      "#### First set of tools:\n",
      "\n",
      " Create requirements.txt:\n",
      "\n",
      "    Cerberus==0.5\n",
      "    Eve==0.3-dev\n",
      "    Events==0.2.0\n",
      "    Flask==0.10.1\n",
      "    Flask-Bootstrap==3.0.2.3\n",
      "    Flask-Classy==0.6.8\n",
      "    Flask-MongoAlchemy==0.5.4\n",
      "    Flask-MongoRest==0.1.1\n",
      "    Flask-PyMongo==0.3.0\n",
      "    Flask-Restless==0.12.1\n",
      "    Flask-SSLify==0.1.4\n",
      "    Flask-Script==0.6.6\n",
      "    Flask-WTF==0.9.3\n",
      "    Jinja2==2.7.1\n",
      "    MarkupSafe==0.18\n",
      "    MongoAlchemy==0.14.3\n",
      "    Pygments==1.6\n",
      "    SQLAlchemy==0.8.4\n",
      "    Sphinx==1.1.3\n",
      "    WTForms==1.0.5\n",
      "    Werkzeug==0.9.4\n",
      "    argparse==1.2.1\n",
      "    docutils==0.11\n",
      "    flask-mongoengine==0.7.0\n",
      "    httpretty==0.7.0\n",
      "    itsdangerous==0.23\n",
      "    mongoengine==0.8.6\n",
      "    mongokit==0.9.0\n",
      "    nose==1.3.0\n",
      "    py-bcrypt==0.4\n",
      "    pymongo==2.6.3\n",
      "    python-dateutil==2.2\n",
      "    requests==2.1.0\n",
      "    simplejson==3.3.1\n",
      "    six==1.4.1\n",
      "    tornado==3.1.1\n",
      "    ujson==1.33\n",
      "    urllib3==1.7.1\n",
      "    wsgiref==0.1.2\n"
     ]
    },
    {
     "cell_type": "markdown",
     "metadata": {},
     "source": [
      "To install all modules in requirements.txt:\n",
      "\n",
      "    pip install -r requirements.txt"
     ]
    },
    {
     "cell_type": "markdown",
     "metadata": {},
     "source": [
      "#### Other options: simpler, maybe faster\n",
      "\n",
      "<http://flask-pymongo.readthedocs.org/en/latest/>\n",
      "\n",
      "<http://pythonhosted.org/Flask-Classy/>\n",
      "\n",
      "<http://blog.miguelgrinberg.com/post/the-flask-mega-tutorial-part-i-hello-world>\n"
     ]
    },
    {
     "cell_type": "markdown",
     "metadata": {},
     "source": [
      "#### Python-Eve seems to be a good solution after all:\n",
      "\n",
      "<http://python-eve.org/index.html>\n",
      "\n",
      "<http://blog.python-eve.org/eve-docs>"
     ]
    }
   ],
   "metadata": {}
  }
 ]
}