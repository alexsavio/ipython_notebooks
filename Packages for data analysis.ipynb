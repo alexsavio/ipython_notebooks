{
 "metadata": {
  "name": ""
 },
 "nbformat": 3,
 "nbformat_minor": 0,
 "worksheets": [
  {
   "cells": [
    {
     "cell_type": "heading",
     "level": 1,
     "metadata": {},
     "source": [
      "Installing Data analysis tools"
     ]
    },
    {
     "cell_type": "raw",
     "metadata": {},
     "source": [
      "#create virtual environment\n",
      "mkvirtualenv mypy3\n",
      "\n",
      "#IPython\n",
      "pip install ipython[all]\n",
      "\n",
      "#Numpy\n",
      "pip install numpy\n",
      "\n",
      "#Test numpy\n",
      "pip install nose\n",
      "python -c 'import numpy; numpy.test()'\n",
      "\n",
      "#Scipy\n",
      "pip install scipy\n",
      "\n",
      "#Readline\n",
      "easy_install readline\n",
      "#Other dependencies\n",
      "pip install python-dateutil sphinx pygments tornado\n"
     ]
    },
    {
     "cell_type": "raw",
     "metadata": {},
     "source": [
      "#PySide\n",
      "deactivate\n",
      "sudo pip3 install pyside\n",
      "workon mypy3\n",
      "ln -s /usr/lib/python3/dist-packages/PySide $VIRTUAL_ENV/lib/python3/site-packages/PySide\n",
      "\n",
      "#If using Python2.7:\n",
      "ln -s /usr/lib/python2.7/dist-packages/Py $VIRTUAL_ENV/lib/python2.7/site-packages/PySide\n",
      "\n",
      "#PyQt4\n",
      "deactivate\n",
      "sudo pip3 install pyqt4 \n",
      "#or \n",
      "sudo apt-get install python3-pyqt4\n",
      "\n",
      "workon mypy3\n",
      "ln -s /usr/lib/python3/dist-packages/PyQt4 $VIRTUAL_ENV/lib/python3/site-packages/PyQt4\n",
      "\n",
      "#If using Python2.7:\n",
      "ln -s /usr/lib/python2.7/dist-packages/PyQt4/ $VIRTUAL_ENV/lib/python2.7/site-packages/PyQt4"
     ]
    },
    {
     "cell_type": "raw",
     "metadata": {},
     "source": [
      "#matplotlib\n",
      "pip install matplotlib\n",
      "\n",
      "#Cython\n",
      "pip install cython\n",
      "\n",
      "#scikits\n",
      "pip install scikit-learn\n",
      "pip install scikit-image\n",
      "\n",
      "#Pandas\n",
      "pip install numexpr\n",
      "pip install h5py\n",
      "pip install tables\n",
      "\n",
      "#If you have problems importing tables, you might need to download and compile hdf5 library:\n",
      "http://www.hdfgroup.org/HDF5/release/obtainsrc.html\n",
      "\n",
      "pip install pandas"
     ]
    },
    {
     "cell_type": "raw",
     "metadata": {},
     "source": [
      "#statsmodels\n",
      "pip install statsmodels\n",
      "\n",
      "#pymc\n",
      "pip install pymc\n",
      "\n",
      "#bottleneck\n",
      "pip install bottleneck\n",
      "\n",
      "#cythongsl\n",
      "pip install cythongsl"
     ]
    },
    {
     "cell_type": "raw",
     "metadata": {},
     "source": [
      "#Python for neuroscience\n",
      "\n",
      "pip install nibabel\n",
      "\n",
      "pip install dipy"
     ]
    },
    {
     "cell_type": "markdown",
     "metadata": {},
     "source": [
      "#References\n",
      "\n",
      "http://www.cs.dartmouth.edu/~nfoti/blog/blog/2012/07/17/setting-up-virtualenv-for-data-analysis-on-osx/"
     ]
    }
   ],
   "metadata": {}
  }
 ]
}