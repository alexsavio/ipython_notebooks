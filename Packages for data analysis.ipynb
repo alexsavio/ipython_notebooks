{
 "metadata": {
  "name": ""
 },
 "nbformat": 3,
 "nbformat_minor": 0,
 "worksheets": [
  {
   "cells": [
    {
     "cell_type": "markdown",
     "metadata": {},
     "source": [
      "# Installing Data analysis tools"
     ]
    },
    {
     "cell_type": "markdown",
     "metadata": {},
     "source": [
      "#### First create virtual environment\n",
      "\n",
      "    mkvirtualenv <env_name>"
     ]
    },
    {
     "cell_type": "markdown",
     "metadata": {},
     "source": [
      "#### Install packages\n",
      "\n",
      " IPython\n",
      "    \n",
      "    pip install ipython[all]\n",
      "\n",
      " Numpy\n",
      "    \n",
      "    pip install numpy\n",
      "\n",
      " Test numpy\n",
      " \n",
      "    pip install nose\n",
      "    \n",
      "    python -c 'import numpy; numpy.test()'\n",
      "    \n",
      " Cython\n",
      "    \n",
      "    pip install cython    \n",
      "\n",
      " Scipy\n",
      "\n",
      "    pip install scipy\n",
      "\n",
      " Readline\n",
      "\n",
      "     easy_install readline\n",
      "\n",
      " Other dependencies\n",
      "\n",
      "    pip install python-dateutil sphinx pygments tornado"
     ]
    },
    {
     "cell_type": "markdown",
     "metadata": {},
     "source": [
      "#### Graphical libraries for GUI building and IPython QT console\n",
      "\n",
      " We installed PySide globally and then linked to the environment\n",
      "\n",
      "    deactivate\n",
      "    sudo pip3 install pyside\n",
      "    workon <env_name>\n",
      "    ln -s /usr/lib/python3/dist-packages/PySide $VIRTUAL_ENV/lib/python3/site-packages/PySide\n",
      "\n",
      " If you are using Python2.7:\n",
      "\n",
      "    ln -s /usr/lib/python2.7/dist-packages/Py $VIRTUAL_ENV/lib/python2.7/site-packages/PySide\n",
      "\n",
      "\n",
      " If you prefer PyQt4:\n",
      " \n",
      "    deactivate\n",
      "    sudo pip3 install pyqt4 \n",
      " or \n",
      "    \n",
      "    sudo apt-get install python3-pyqt4\n",
      "\n",
      " Link in the environment:\n",
      "  \n",
      "    workon <env_name>\n",
      "    ln -s /usr/lib/python3/dist-packages/PyQt4 $VIRTUAL_ENV/lib/python3/site-packages/PyQt4\n",
      "\n",
      " If using Python2.7:\n",
      " \n",
      "    ln -s /usr/lib/python2.7/dist-packages/PyQt4/ $VIRTUAL_ENV/lib/python2.7/site-packages/PyQt4"
     ]
    },
    {
     "cell_type": "markdown",
     "metadata": {},
     "source": [
      "#### Other interesting modules\n",
      "\n",
      " matplotlib\n",
      "\n",
      "    pip install matplotlib\n",
      "\n",
      " scikits\n",
      "\n",
      "    pip install scikit-learn\n",
      "    pip install scikit-image\n",
      "\n",
      " Pandas\n",
      "\n",
      "    pip install numexpr\n",
      "    pip install h5py\n",
      "    pip install tables\n",
      "\n",
      " If you have problems importing tables, you might need to download and compile hdf5 library:\n",
      "<http://www.hdfgroup.org/HDF5/release/obtainsrc.html>\n",
      "\n",
      "    pip install pandas"
     ]
    },
    {
     "cell_type": "markdown",
     "metadata": {},
     "source": [
      " statsmodels\n",
      "\n",
      "    pip install patsy\n",
      "    pip install statsmodels\n",
      "\n",
      " pymc\n",
      "\n",
      "    pip install pymc"
     ]
    },
    {
     "cell_type": "markdown",
     "metadata": {},
     "source": [
      " #### Speed up execution\n",
      "\n",
      " bottleneck\n",
      "\n",
      "    pip install bottleneck\n",
      "\n",
      " cythongsl\n",
      "\n",
      "    pip install cythongsl"
     ]
    },
    {
     "cell_type": "markdown",
     "metadata": {},
     "source": [
      " ### Neuroscience tools:\n",
      "\n",
      " Nibabel\n",
      " \n",
      "    pip install nibabel\n",
      "    \n",
      "    \n",
      " Nipy* Dependencies:\n",
      " \n",
      "    pip install sphinx sympy networkx traits \n",
      "    \n",
      "    pip install nipy\n",
      "\n",
      "    pip install nipype dipy nitime\n",
      "\n",
      "\n",
      "(\\*) These tools only work on Python 2.* (in time of writing Dec 13th 2013):"
     ]
    },
    {
     "cell_type": "markdown",
     "metadata": {},
     "source": [
      "### References\n",
      "\n",
      "<http://www.cs.dartmouth.edu/~nfoti/blog/blog/2012/07/17/setting-up-virtualenv-for-data-analysis-on-osx/>"
     ]
    }
   ],
   "metadata": {}
  }
 ]
}