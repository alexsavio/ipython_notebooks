{
 "metadata": {
  "name": ""
 },
 "nbformat": 3,
 "nbformat_minor": 0,
 "worksheets": [
  {
   "cells": [
    {
     "cell_type": "raw",
     "metadata": {},
     "source": [
      "#Install virtualenv and virtualenvwrapper\n",
      "sudo apt-get install python3-pip\n",
      "sudo pip3 install virtualenv virtualenvwrapper"
     ]
    },
    {
     "cell_type": "raw",
     "metadata": {},
     "source": [
      "#virtualenvwrapper\n",
      "echo \"export WORKON_HOME=~/envs\" >> .bashrc\n",
      "echo \"source /usr/local/bin/virtualenvwrapper.sh\" >> .bashrc\n",
      "echo \"export PIP_REQUIRE_VIRTUALENV=true\" >> .bashrc\n"
     ]
    },
    {
     "cell_type": "markdown",
     "metadata": {},
     "source": [
      "-PyCharm is a Python IDE with code assistance and analysis\n",
      "http://www.jetbrains.com/pycharm/download/index.html"
     ]
    },
    {
     "cell_type": "raw",
     "metadata": {},
     "source": [
      "#To create a virtualenv:\n",
      "mkvirtualenv <env name>\n",
      "\n",
      "#To activate a virtualenv\n",
      "workon <env name>\n",
      "\n",
      "#To install a package in the activated virtualenv \n",
      "pip install <package name>\n",
      "\n",
      "#To go to is directory when it is activated\n",
      "cdvirtualenv\n",
      "\n",
      "#To set a working directory as a project of the virtualenv\n",
      "cd <project dir>\n",
      "setvirtualenvproject $VIRTUAL_ENV $(pwd)\n",
      "\n",
      "#Get Python modules and versions installed in an activated virtualenv\n",
      "pip freeze\n",
      "\n",
      "#To deactivate a virtualenv\n",
      "deactivate\n"
     ]
    },
    {
     "cell_type": "raw",
     "metadata": {},
     "source": [
      "#To run ipython within the virtualenv:\n",
      "echo -e alias ipy=\\\"python -c 'import IPython; IPython.terminal.ipapp.launch_new_instance()'\\\"\n",
      "ipy"
     ]
    },
    {
     "cell_type": "raw",
     "metadata": {},
     "source": [
      "#To run ipython with other options:\n",
      "#Add this to .bashrc\n",
      "\n",
      "function ipyqt(){\n",
      "    python -c 'import IPython; IPython.start_ipython(['\"'\"'qtconsole'\"'\"']);'\n",
      "}\n",
      "\n",
      "function ipynote(){\n",
      "    python -c 'import IPython; IPython.start_ipython(['\"'\"'notebook'\"'\"']);'\n",
      "}\n"
     ]
    },
    {
     "cell_type": "markdown",
     "metadata": {},
     "source": [
      "#REFERENCES:\n",
      "\n",
      "http://www.virtualenv.org/en/latest/\n",
      "\n",
      "http://virtualenvwrapper.readthedocs.org/en/latest/\n",
      "\n",
      "http://virtualenvwrapper.readthedocs.org/en/latest/command_ref.html\n",
      "\n",
      "http://www.cs.dartmouth.edu/~nfoti/blog/blog/2012/07/17/setting-up-virtualenv-for-data-analysis-on-osx/"
     ]
    }
   ],
   "metadata": {}
  }
 ]
}