{
 "metadata": {
  "name": "",
  "signature": "sha256:f3aa5a08870546ba4bb1001d08445d69bff66283542a366d0f6c2eb57b1754b9"
 },
 "nbformat": 3,
 "nbformat_minor": 0,
 "worksheets": [
  {
   "cells": [
    {
     "cell_type": "heading",
     "level": 1,
     "metadata": {},
     "source": [
      "The Scipy stack"
     ]
    },
    {
     "cell_type": "markdown",
     "metadata": {},
     "source": [
      "Alexandre M. S. (alexsavio@gmail.com) http://alexsavio.github.io/"
     ]
    },
    {
     "cell_type": "markdown",
     "metadata": {},
     "source": [
      "+ [Numpy 101](IntroNumPy.ipynb)\n",
      "\n",
      "+ [Matplotlib 101](IntroMatplotlib.ipynb)\n",
      "\n",
      "+ [Scipy](The Scipy stack.ipynb)\n",
      "\n",
      "+ [Pandas 101](IntroPandas.ipynb)\n",
      "\n",
      "+ [Matplotlib 102](Matplotlib.ipynb)\n",
      "\n",
      "+ [Numpy 102](Numpy.ipynb)\n",
      "\n",
      "+ [Numpy and CSV data](NumpyCSV.ipynb)\n",
      "\n",
      "+ [Exercise-TrapezoidRule](Exercise-TrapezoidRule.ipynb)\n",
      "\n",
      "+ [Exercise-FourierImageDenoise](Exercise-FourierImageDenoise.ipynb)"
     ]
    },
    {
     "cell_type": "code",
     "collapsed": false,
     "input": [],
     "language": "python",
     "metadata": {},
     "outputs": []
    }
   ],
   "metadata": {}
  }
 ]
}