{
 "metadata": {
  "name": ""
 },
 "nbformat": 3,
 "nbformat_minor": 0,
 "worksheets": [
  {
   "cells": [
    {
     "cell_type": "markdown",
     "metadata": {},
     "source": [
      "Introduction\n",
      "============\n",
      "\n",
      "Random numbers have many applications in science and computational modeling.  The purpose of this lecture is to look at some practical problems involving the use and generation of random numbers and learn how to program with such numbers.  \n",
      "\n",
      "The key idea in computer simulations with random numbers is first to formulate an algorithmic description of the phenomenon we want to study.  This description frequently maps directly onto a short Python program, where the power comes from performing a large number of repeated calculations drawing from random distributions.\n",
      "\n",
      "\n",
      "Generating Random Numbers\n",
      "-------------------------\n",
      "\n",
      "Python has a standard library module, random, for generating random numbers.  The NumPy library also has built in random number generators, which parallel much of the capabilities of the random module, but allow one to generate arrays of random numbers with given properties.\n",
      "\n",
      "The most basic function in the random and NumPy random modules is a function that retuns a random floating point number from 0.0 to 1.0, with equal probability of producing any number within that range.  (When all numbers are equally likely to be generated, this is known as a uniform distribution)."
     ]
    },
    {
     "cell_type": "code",
     "collapsed": false,
     "input": [
      "import random\n",
      "import numpy as np\n",
      "import matplotlib.pyplot as plt\n"
     ],
     "language": "python",
     "metadata": {},
     "outputs": [],
     "prompt_number": 40
    },
    {
     "cell_type": "code",
     "collapsed": false,
     "input": [
      "print random.random()"
     ],
     "language": "python",
     "metadata": {},
     "outputs": [
      {
       "output_type": "stream",
       "stream": "stdout",
       "text": [
        "0.0753759712371\n"
       ]
      }
     ],
     "prompt_number": 4
    },
    {
     "cell_type": "markdown",
     "metadata": {},
     "source": [
      "If you run the previous cell, you will see that you get a different number between 0.0 and 1.0 each time it is run.\n",
      "\n",
      "\n",
      "If we need an array of random numbers for some purpose, we can generate them in any shape, using the np.random.rand function."
     ]
    },
    {
     "cell_type": "code",
     "collapsed": false,
     "input": [
      "r = np.random.rand(5,2)\n",
      "np.set_printoptions(precision=8)\n",
      "print r.shape\n",
      "print r"
     ],
     "language": "python",
     "metadata": {},
     "outputs": [
      {
       "output_type": "stream",
       "stream": "stdout",
       "text": [
        "(5, 2)\n",
        "[[ 0.73820065  0.63934245]\n",
        " [ 0.13712525  0.96944434]\n",
        " [ 0.54587535  0.31639327]\n",
        " [ 0.74561881  0.93930106]\n",
        " [ 0.17615362  0.57557923]]\n"
       ]
      }
     ],
     "prompt_number": 10
    },
    {
     "cell_type": "markdown",
     "metadata": {},
     "source": [
      "All computations of random numbers are based on deterministic algorithms, so the sequence of numbers cannot \n",
      "be truly random.   However, random number generator algorithms can create numbers that appear to lack any \n",
      "pattern (if they are correctly written).   The pseudo-random nature of the random number sequence thus \n",
      "generated can be a problem in some very complex numerical  simulations.  But the pseudo-random nature can \n",
      "also be beneficial.  For example we can cause the same sequence of  random numbers to be regenerated if \n",
      "we need to rerun or verify a stochastic simulation.\n",
      "\n",
      "So normally every time you import random, or the NumPy equivalents, the subsequent sequence of numbers \n",
      "generated will yield different numbers.  For example, try running the following cell multiple times.  You \n",
      "will see that it always generates 10 different random numbers. (HINT: try using Ctrl+Enter to run a cell multiple times)"
     ]
    },
    {
     "cell_type": "code",
     "collapsed": false,
     "input": [
      "for i in range(10): \n",
      "    print random.random()"
     ],
     "language": "python",
     "metadata": {},
     "outputs": [
      {
       "output_type": "stream",
       "stream": "stdout",
       "text": [
        "0.655456187522\n",
        "0.288328707383\n",
        "0.286693798906\n",
        "0.160428044881\n",
        "0.331343847048\n",
        "0.195897187776\n",
        "0.689551501011\n",
        "0.591489985123\n",
        "0.708325403607\n",
        "0.0575158486897\n"
       ]
      }
     ],
     "prompt_number": 26
    },
    {
     "cell_type": "markdown",
     "metadata": {},
     "source": [
      "But if we need to regenerate a known sequence of random numbers, we can set what is known as the random number generator \n",
      "seed to some particular value.  Once a random number generator starts from a given seed, it will generate the same \n",
      "sequence of numbers again.  For example, try running the same as above, but setting the seed number before \n",
      "generating random numbers.  Try it with different seed values as well."
     ]
    },
    {
     "cell_type": "code",
     "collapsed": false,
     "input": [
      "random.seed(44)\n",
      "for i in range(10): \n",
      "    print random.random()"
     ],
     "language": "python",
     "metadata": {},
     "outputs": [
      {
       "output_type": "stream",
       "stream": "stdout",
       "text": [
        "0.408535879254\n",
        "0.541972009105\n",
        "0.862036616479\n",
        "0.176665644195\n",
        "0.225159520578\n",
        "0.0290972532681\n",
        "0.116650533443\n",
        "0.00880562588707\n",
        "0.156690335083\n",
        "0.513713208503\n"
       ]
      }
     ],
     "prompt_number": 39
    },
    {
     "cell_type": "markdown",
     "metadata": {},
     "source": [
      "Uniformly Distributed Random Numbers\n",
      "====================================\n",
      "\n",
      "As we mentioned, the basic random()/rand() function returns a float between 0.0 and 1.0 with a uniform \n",
      "distribution.  What does this mean?  Lets draw a large number of 2 dimensional points from the uniform \n",
      "distribution and plot them to see how they are distributed."
     ]
    },
    {
     "cell_type": "code",
     "collapsed": false,
     "input": [
      "d = np.random.rand(5000,2)\n",
      "plt.figure(figsize=(8,8))\n",
      "plt.plot(d[:,0], d[:,1], '.')"
     ],
     "language": "python",
     "metadata": {},
     "outputs": [
      {
       "metadata": {},
       "output_type": "pyout",
       "prompt_number": 41,
       "text": [
        "[<matplotlib.lines.Line2D at 0x461f790>]"
       ]
      },
      {
       "metadata": {},
       "output_type": "display_data",
       "png": "[encoded data removed]",
       "text": [
        "<matplotlib.figure.Figure at 0x454efd0>"
       ]
      }
     ],
     "prompt_number": 41
    },
    {
     "cell_type": "markdown",
     "metadata": {},
     "source": [
      "You should see that there is no pattern, the numbers are distributed evenly (uniformly) over both of the 2 dimensions in the range from 0 to 1.  Another way to visualize a uniform distribution is to examine the histogram of a generated sequence."
     ]
    },
    {
     "cell_type": "code",
     "collapsed": false,
     "input": [
      "d = np.random.rand(1000)\n",
      "plt.hist(d, bins=20)"
     ],
     "language": "python",
     "metadata": {},
     "outputs": [
      {
       "metadata": {},
       "output_type": "pyout",
       "prompt_number": 44,
       "text": [
        "(array([56, 43, 49, 48, 42, 43, 43, 50, 52, 50, 56, 55, 45, 49, 50, 53, 56,\n",
        "       56, 55, 49]),\n",
        " array([  3.47533723e-04,   5.02737976e-02,   1.00200061e-01,\n",
        "         1.50126325e-01,   2.00052589e-01,   2.49978853e-01,\n",
        "         2.99905117e-01,   3.49831381e-01,   3.99757645e-01,\n",
        "         4.49683909e-01,   4.99610172e-01,   5.49536436e-01,\n",
        "         5.99462700e-01,   6.49388964e-01,   6.99315228e-01,\n",
        "         7.49241492e-01,   7.99167756e-01,   8.49094020e-01,\n",
        "         8.99020283e-01,   9.48946547e-01,   9.98872811e-01]),\n",
        " <a list of 20 Patch objects>)"
       ]
      },
      {
       "metadata": {},
       "output_type": "display_data",
       "png": "[encoded data removed]",
       "text": [
        "<matplotlib.figure.Figure at 0x4b87a90>"
       ]
      }
     ],
     "prompt_number": 44
    },
    {
     "cell_type": "markdown",
     "metadata": {},
     "source": [
      "You may see a few bars bigger or smaller than others (indicating more or less random numbers falling in that bin).  But try \n",
      "rerunning the above cell with 5000, 10,000 or even 50,000 points.  The larger the sample of random numbers you draw, the more \n",
      "you will see how evenly they are distributed over the interval."
     ]
    },
    {
     "cell_type": "markdown",
     "metadata": {},
     "source": [
      "Generating Random Numbers with Different Ranges\n",
      "-----------------------------------------------\n",
      "\n",
      "The random number functions we have seen so far only generate random numbers between 0.0 and 1.0.  What if we need \n",
      "uniformly distributed floating point numbers in a different range, say from -5.0 to 5.0?\n",
      "\n",
      "Well one way that you may encounter in older C and Fortran code, where there are basically only the seed() and rand() \n",
      "functions in the library/API, is simply to recast generated numbers into the desired range.  This is easily done \n",
      "for the range from -5.0 to 5.0, which has a span of 10.0 units, like this:"
     ]
    },
    {
     "cell_type": "code",
     "collapsed": false,
     "input": [
      "[(random.random() * 10.0) - 5.0  for i in range(10)]"
     ],
     "language": "python",
     "metadata": {},
     "outputs": [
      {
       "metadata": {},
       "output_type": "pyout",
       "prompt_number": 45,
       "text": [
        "[4.89492910377551,\n",
        " 1.9351026143143812,\n",
        " -1.215734288767191,\n",
        " -0.9495226468074396,\n",
        " 1.9130962841237933,\n",
        " -1.7388012738314007,\n",
        " -4.264465694217318,\n",
        " 3.41522896906209,\n",
        " 1.1721995591408323,\n",
        " -3.8799017287035245]"
       ]
      }
     ],
     "prompt_number": 45
    },
    {
     "cell_type": "markdown",
     "metadata": {},
     "source": [
      "In general, to recast a number in the range from 0 to 1 into any range `min,max` with $span = max - min$ you can \n",
      "do `(rand() * span) + min`.  In the Python random libraries, though, there are generally convenience function to \n",
      "do this more easily, for example:"
     ]
    },
    {
     "cell_type": "code",
     "collapsed": false,
     "input": [
      "[random.uniform(-5.0, 5.0) for i in range(10)]"
     ],
     "language": "python",
     "metadata": {},
     "outputs": [
      {
       "metadata": {},
       "output_type": "pyout",
       "prompt_number": 48,
       "text": [
        "[-3.1140683494476518,\n",
        " -2.416531313425583,\n",
        " -2.5203535872280183,\n",
        " -4.507952627282976,\n",
        " 1.737168204826979,\n",
        " 3.167054405798101,\n",
        " -0.6363494910402778,\n",
        " -4.621664752170085,\n",
        " 2.1357998024461535,\n",
        " 2.3704601708394026]"
       ]
      }
     ],
     "prompt_number": 48
    },
    {
     "cell_type": "code",
     "collapsed": false,
     "input": [
      "np.random.uniform(-5.0, 5.0, size=(10,2))"
     ],
     "language": "python",
     "metadata": {},
     "outputs": [
      {
       "metadata": {},
       "output_type": "pyout",
       "prompt_number": 49,
       "text": [
        "array([[ 3.39678656,  2.38861913],\n",
        "       [-3.30170652,  3.57970398],\n",
        "       [-1.38717715, -4.89498397],\n",
        "       [ 2.09560511,  4.78048559],\n",
        "       [-4.1638224 , -3.80642635],\n",
        "       [ 4.12833751, -4.00769759],\n",
        "       [ 2.74025346,  3.85586801],\n",
        "       [-4.98470046,  4.15945523],\n",
        "       [ 0.15005729, -0.60701541],\n",
        "       [-1.06331652, -2.24617139]])"
       ]
      }
     ],
     "prompt_number": 49
    },
    {
     "cell_type": "markdown",
     "metadata": {},
     "source": [
      "The Gaussian or Normal Distribution\n",
      "===================================\n",
      "\n",
      "Besides the uniform distribution, there are many other types of possible distributions of randomly generated numbers.  \n",
      "Examples include exponential distributions, gamma distributions and many others.  The one distribution you should \n",
      "absolutely be familiar with is what is known as the Gaussian (also known as the normal) distribution.   The Gaussian \n",
      "distribution is encountered frequently in natural systems.  For example peoples height tends to follow a Gaussian \n",
      "random distribution.  In a Gaussian distribution, there is one central tendency around which the values tend to \n",
      "cluster (for example for people's height, the averge height of humans is about 5.6 inches), and a measure of the \n",
      "deviation, or how far away random samples typically are from this central value (for humans the standard deviation \n",
      "from the average height is about 3.0 inches typically).\n",
      "\n",
      "We can generate single random numbers with Gaussian distribution using random.gauss() or arrays of Gaussians using \n",
      "np.random.normal()  These functions take the mean (also called mu or $\\mu$) and the standard deviation \n",
      "(known as sigma or $\\sigma$) as parameters.  "
     ]
    },
    {
     "cell_type": "code",
     "collapsed": false,
     "input": [
      "print random.gauss(0.0, 1.0)\n",
      "print np.random.normal(0.0, 1.0, size=(10,2))"
     ],
     "language": "python",
     "metadata": {},
     "outputs": [
      {
       "output_type": "stream",
       "stream": "stdout",
       "text": [
        "-0.508964559339\n",
        "[[-1.00663277 -0.19944303]\n",
        " [ 0.37441029 -0.17555656]\n",
        " [ 0.00941636 -0.53601086]\n",
        " [ 1.2600269   0.45082526]\n",
        " [ 1.58783535 -0.0935774 ]\n",
        " [ 0.5706353   1.03887284]\n",
        " [ 0.68616961  0.00174649]\n",
        " [-0.61577871  0.73026193]\n",
        " [-0.75126537  0.5811334 ]\n",
        " [ 1.54293373  0.37342642]]\n"
       ]
      }
     ],
     "prompt_number": 50
    },
    {
     "cell_type": "markdown",
     "metadata": {},
     "source": [
      "You have probably already seen figures of what a typical gaussian distribution looks like, known as a bell curve \n",
      "distribution.  Lets use a 2D plot and histogram again to demonstrate this distributions shape.  When \n",
      "plotting the histogram of the normal distribution, you might find it useful to try it with both more \n",
      "random samples, as well as a larger number of bins, in order to get a feel for what this distribution produces."
     ]
    },
    {
     "cell_type": "code",
     "collapsed": false,
     "input": [
      "d = np.random.normal(0.0, 1.0, size=(5000,2))\n",
      "plt.figure(figsize=(8,8))\n",
      "plt.plot(d[:,0], d[:,1], '.')"
     ],
     "language": "python",
     "metadata": {},
     "outputs": [
      {
       "metadata": {},
       "output_type": "pyout",
       "prompt_number": 51,
       "text": [
        "[<matplotlib.lines.Line2D at 0x4ae6810>]"
       ]
      },
      {
       "metadata": {},
       "output_type": "display_data",
       "png": "[encoded data removed]",
       "text": [
        "<matplotlib.figure.Figure at 0x4b8b650>"
       ]
      }
     ],
     "prompt_number": 51
    },
    {
     "cell_type": "code",
     "collapsed": false,
     "input": [
      "d = np.random.normal(0.0, 1.0, size=1000)\n",
      "plt.hist(d, bins=20)\n",
      "plt.ylabel('count')"
     ],
     "language": "python",
     "metadata": {},
     "outputs": [
      {
       "metadata": {},
       "output_type": "pyout",
       "prompt_number": 52,
       "text": [
        "<matplotlib.text.Text at 0x4ebf310>"
       ]
      },
      {
       "metadata": {},
       "output_type": "display_data",
       "png": "[encoded data removed]",
       "text": [
        "<matplotlib.figure.Figure at 0x4b94790>"
       ]
      }
     ],
     "prompt_number": 52
    },
    {
     "cell_type": "markdown",
     "metadata": {},
     "source": [
      "If we want to generate a sequence of random numbers with a normal distribution with a mean of 66 inches (5'6\") and a standard deviation of 3.0, we can do that by simply specifying different parameter for $\\mu$ and $\\gamma$"
     ]
    },
    {
     "cell_type": "code",
     "collapsed": false,
     "input": [
      "d = np.random.normal(66.0, 3.0, size=1000)\n",
      "plt.hist(d, bins=20)\n",
      "plt.ylabel('count')"
     ],
     "language": "python",
     "metadata": {},
     "outputs": [
      {
       "metadata": {},
       "output_type": "pyout",
       "prompt_number": 53,
       "text": [
        "<matplotlib.text.Text at 0x4ff7490>"
       ]
      },
      {
       "metadata": {},
       "output_type": "display_data",
       "png": "[encoded data removed]",
       "text": [
        "<matplotlib.figure.Figure at 0x4edc550>"
       ]
      }
     ],
     "prompt_number": 53
    },
    {
     "cell_type": "markdown",
     "metadata": {},
     "source": [
      "The Gaussian Probability Distribution Function\n",
      "----------------------------------------------\n",
      "\n",
      "The probability distribution function (PDF) shows how samples that conform to that distribution should be distributed as the number\n",
      "of samples drawn goes towards infinity.  You have already written a function using the Gaussian PDF in your second assignment\n",
      "(the h(x) function).  The formula for the Gaussian PDF, with a mean $\\mu$ and standard deviation $\\sigma$ is:\n",
      "\n",
      "$g(x) = \\frac{1}{\\sigma \\sqrt{2 \\pi}} e^{- \\frac{(x - \\mu)^2}{2 \\sigma^2}} $\n",
      "\n",
      "When the mean $\\mu = 0.0$ and the standard deviation $\\sigma = 1.0$, the above formula reduces to the h(x) function you\n",
      "implemented in your second assignment.  Lets see what the relationship is between the PDF and the samples drawn from\n",
      "the Gaussian distribution is.  First lets write again the general vectorized  function for the Gaussian PDF:"
     ]
    },
    {
     "cell_type": "code",
     "collapsed": false,
     "input": [
      "def g(x, mu=0.0, sigma=1.0):\n",
      "    \"\"\"The Gaussian Probability Distribution Function (PDF).  Given an array\n",
      "    of values, compute the Gaussian PDF function on each value and return\n",
      "    the resulting values as a new array.  You can specify a different mean\n",
      "    of the distribution using the mu parameter, and a different standard\n",
      "    deviation using the sigma input parameter.\n",
      "    \"\"\"\n",
      "    return 1 / (sigma * (2. * pi)**0.5) * exp(- (x - mu)**2. / (2. * sigma**2.))\n",
      "\n",
      "x = linspace(-5., 5., 20)\n",
      "print x\n",
      "print g(x)"
     ],
     "language": "python",
     "metadata": {},
     "outputs": [
      {
       "output_type": "stream",
       "stream": "stdout",
       "text": [
        "[-5.         -4.47368421 -3.94736842 -3.42105263 -2.89473684 -2.36842105\n",
        " -1.84210526 -1.31578947 -0.78947368 -0.26315789  0.26315789  0.78947368\n",
        "  1.31578947  1.84210526  2.36842105  2.89473684  3.42105263  3.94736842\n",
        "  4.47368421  5.        ]\n",
        "[  1.48671951e-06   1.79869558e-05   1.64961696e-04   1.14684672e-03\n",
        "   6.04400005e-03   2.41457312e-02   7.31228458e-02   1.67865955e-01\n",
        "   2.92125176e-01   3.85364911e-01   3.85364911e-01   2.92125176e-01\n",
        "   1.67865955e-01   7.31228458e-02   2.41457312e-02   6.04400005e-03\n",
        "   1.14684672e-03   1.64961696e-04   1.79869558e-05   1.48671951e-06]\n"
       ]
      }
     ],
     "prompt_number": 58
    },
    {
     "cell_type": "markdown",
     "metadata": {},
     "source": [
      "Given the theoretical Gaussian PDF, lets examine the relationship between drawing random samples from this distribution\n",
      "to the theoretical distribution."
     ]
    },
    {
     "cell_type": "code",
     "collapsed": false,
     "input": [
      "mu = 0.0\n",
      "sigma = 1.0\n",
      "plt.figure(figsize=(15,10))\n",
      "\n",
      "# plot a histogram of randomly drawn samples from the Gaussian distribution\n",
      "d = np.random.normal(mu, sigma, size=1000)\n",
      "plt.hist(d, bins=20, normed=True, fill=True, alpha=0.2)\n",
      "\n",
      "# plot the true Gaussian theoretical PDF\n",
      "x = linspace(-5., 5., 100)\n",
      "plt.plot(x, g(x), 'r-', label='Gaussian theoretical PDF')\n",
      "plt.ylabel('normalized count')\n",
      "plt.legend()"
     ],
     "language": "python",
     "metadata": {},
     "outputs": [
      {
       "metadata": {},
       "output_type": "pyout",
       "prompt_number": 74,
       "text": [
        "<matplotlib.legend.Legend at 0x820b810>"
       ]
      },
      {
       "metadata": {},
       "output_type": "display_data",
       "png": "[encoded data removed]",
       "text": [
        "<matplotlib.figure.Figure at 0x83de450>"
       ]
      }
     ],
     "prompt_number": 74
    },
    {
     "cell_type": "markdown",
     "metadata": {},
     "source": [
      "Try the previous cell with more samples, and with more bins.  As more and more random samples are drawn, the samples will\n",
      "begin to approach the theoretical PDF of the Gaussian distribution."
     ]
    },
    {
     "cell_type": "markdown",
     "metadata": {},
     "source": [
      "Drawing Integers\n",
      "================\n",
      "\n",
      "So far we have been generating sequences of floating point numbers.  What if we needed to build a simulation of, \n",
      "for example, throwing a 6 sided dice?  In that case we would need to generate a sequence of integer values \n",
      "instead in the range from 1 to 6.  Again with older random number modules, this can be done using the previous \n",
      "trick we saw to recast into the appropriate range, then using a type cast in the programming language to \n",
      "cast the float to an int."
     ]
    },
    {
     "cell_type": "code",
     "collapsed": false,
     "input": [
      "[ int(random.random() * 5.0 + 1.0) for i in range(10)]"
     ],
     "language": "python",
     "metadata": {},
     "outputs": [
      {
       "metadata": {},
       "output_type": "pyout",
       "prompt_number": 79,
       "text": [
        "[4, 1, 5, 5, 2, 5, 2, 1, 3, 5]"
       ]
      }
     ],
     "prompt_number": 79
    },
    {
     "cell_type": "markdown",
     "metadata": {},
     "source": [
      "However, we have to be careful here.  The astute student may have noticed we are not generating any 6's with the\n",
      "above example recasting.  We didn't mention previously, but the random/rand functions generate a \n",
      "random number from 0.0 to 1.0, including the 0.0 starting point, but not including the 1.0 end point.  Thus \n",
      "the above code, before casting int an int, can only generate numbers from 1.0 to 5.99999999, and the\n",
      "int type cast simpy truncates any decimal points.  So we really  have to generate numbers from 1.0 to \n",
      "6.999999, so that when we cast into an int, they get truncated (and we still retain the uniform \n",
      "probability of generating any of the numbers from 1 to 6)."
     ]
    },
    {
     "cell_type": "code",
     "collapsed": false,
     "input": [
      "[ int(random.random() * 6.0 + 1.0) for i in range(10)]"
     ],
     "language": "python",
     "metadata": {},
     "outputs": [
      {
       "metadata": {},
       "output_type": "pyout",
       "prompt_number": 94,
       "text": [
        "[6, 1, 3, 1, 2, 6, 4, 3, 6, 1]"
       ]
      }
     ],
     "prompt_number": 94
    },
    {
     "cell_type": "markdown",
     "metadata": {},
     "source": [
      "Since I made a mistake previously, it might be a good idea to test the above implementation, to make sure that we really are\n",
      "generating all the numbers from 1 to 6 with a uniform distribution."
     ]
    },
    {
     "cell_type": "code",
     "collapsed": false,
     "input": [
      "d = [ int(random.random() * 6.0 + 1.0) for i in range(10000)]\n",
      "plt.hist(d, bins=[0.5,1.5,2.5,3.5,4.5,5.5,6.5])"
     ],
     "language": "python",
     "metadata": {},
     "outputs": [
      {
       "metadata": {},
       "output_type": "pyout",
       "prompt_number": 127,
       "text": [
        "(array([1626, 1730, 1697, 1638, 1635, 1674]),\n",
        " array([ 0.5,  1.5,  2.5,  3.5,  4.5,  5.5,  6.5]),\n",
        " <a list of 6 Patch objects>)"
       ]
      },
      {
       "metadata": {},
       "output_type": "display_data",
       "png": "[encoded data removed]",
       "text": [
        "<matplotlib.figure.Figure at 0xcc278d0>"
       ]
      }
     ],
     "prompt_number": 127
    },
    {
     "cell_type": "markdown",
     "metadata": {},
     "source": [
      "It was a little tricky to make the histogram work correctly.  Basically we specify the edges of the bins explicitly\n",
      "by hand, to make sure all of the 1's end up in the 0.5 $\\to$ 1.5 bin, etc.  But in fact this does show that we are\n",
      "generating the 6 numbers with a good uniform distribution."
     ]
    },
    {
     "cell_type": "markdown",
     "metadata": {},
     "source": [
      "Since we are using Python, it is better to use the built in random modules API for generating random integers in \n",
      "the desired range.  Make sure you read the documentation, some versions generate sequences that include the endpoint, \n",
      "but other don't, you need to use the correct one.  To roll a 6 sided dice, wecan  use randint.  But we have to \n",
      "be careful because NumPy's version of randint for some reason generates integers that don't include the endpoint.\n",
      "So we need to use random_integers instead if we want to include the endpoint."
     ]
    },
    {
     "cell_type": "code",
     "collapsed": false,
     "input": [
      "[ random.randint(1, 6) for i in range(10)]"
     ],
     "language": "python",
     "metadata": {},
     "outputs": [
      {
       "metadata": {},
       "output_type": "pyout",
       "prompt_number": 137,
       "text": [
        "[3, 3, 6, 3, 2, 2, 3, 6, 3, 2]"
       ]
      }
     ],
     "prompt_number": 137
    },
    {
     "cell_type": "code",
     "collapsed": false,
     "input": [
      "[ np.random.random_integers(1, 6) for i in range(10) ]"
     ],
     "language": "python",
     "metadata": {},
     "outputs": [
      {
       "metadata": {},
       "output_type": "pyout",
       "prompt_number": 147,
       "text": [
        "[4, 2, 5, 2, 2, 2, 4, 5, 1, 2]"
       ]
      }
     ],
     "prompt_number": 147
    },
    {
     "cell_type": "markdown",
     "metadata": {},
     "source": [
      "Lets show a simple example of a stochastic simulation.  Here we want to compute the probability of throwing a 6 on a 6 sided die.  For a fair dice it should be intuitively obvious (and mathematically provable) that the probability is exactly $\\frac{1}{6}$ or 0.166666.  Lets see what happens if we simulate many dice throws.  Try the following with larger values of N.\n",
      "\n",
      "**Important**: You should intiutively begin to see that, as the size N of the number of simulations increases, you tend to get closer and closer to the true probability.  More on this later."
     ]
    },
    {
     "cell_type": "code",
     "collapsed": false,
     "input": [
      "N = 1000 # the number of simulated throws\n",
      "sum = 0\n",
      "for i in xrange(N): # xrange() is more computationally efficient/faster than range() when doing large numbers of loops\n",
      "    d = random.randint(1, 6)\n",
      "    if d == 6:\n",
      "        sum += 1\n",
      "        \n",
      "print 'Got six %d times out of %d' % (sum, N)\n",
      "print 'Simulated probability = %f' % (float(sum) / float(N))"
     ],
     "language": "python",
     "metadata": {},
     "outputs": [
      {
       "output_type": "stream",
       "stream": "stdout",
       "text": [
        "Got six 162 times out of 1000\n",
        "Simulated probability = 0.162000\n"
       ]
      }
     ],
     "prompt_number": 165
    },
    {
     "cell_type": "markdown",
     "metadata": {},
     "source": [
      "Drawing a Random Element from a List\n",
      "------------------------------------\n",
      "\n",
      "Another common task in creating stochastic simulations is to draw one element at random from a group of items (with or without replacing the item we draw).  The Python and NumPy libraries offer some convenience functions to make random selection of an item from a group easier.  If we want to pick an item from a list of items, we can us random.choice ."
     ]
    },
    {
     "cell_type": "code",
     "collapsed": false,
     "input": [
      "states = ['Alabama', 'Alaska', 'Arizona', 'Arkansas', 'California', 'Colorado', 'Connecticut']\n",
      "random.choice(states)"
     ],
     "language": "python",
     "metadata": {},
     "outputs": [
      {
       "metadata": {},
       "output_type": "pyout",
       "prompt_number": 169,
       "text": [
        "'Arizona'"
       ]
      }
     ],
     "prompt_number": 169
    },
    {
     "cell_type": "markdown",
     "metadata": {},
     "source": [
      "The previous drawing of an item does it with replacement, that is to say, the item drawn is still in the states list after we draw it."
     ]
    },
    {
     "cell_type": "code",
     "collapsed": false,
     "input": [
      "print states"
     ],
     "language": "python",
     "metadata": {},
     "outputs": [
      {
       "output_type": "stream",
       "stream": "stdout",
       "text": [
        "['Alabama', 'Alaska', 'Arizona', 'Arkansas', 'California', 'Colorado', 'Connecticut']\n"
       ]
      }
     ],
     "prompt_number": 170
    },
    {
     "cell_type": "markdown",
     "metadata": {},
     "source": [
      "If you need to do drawing without replacement, you can remove the item you draw from the list."
     ]
    },
    {
     "cell_type": "code",
     "collapsed": false,
     "input": [
      "pick = random.choice(states)\n",
      "states.remove(pick)\n",
      "print pick\n",
      "print states"
     ],
     "language": "python",
     "metadata": {},
     "outputs": [
      {
       "output_type": "stream",
       "stream": "stdout",
       "text": [
        "Alabama\n",
        "['Alaska', 'Arizona', 'Arkansas', 'California', 'Colorado', 'Connecticut']\n"
       ]
      }
     ],
     "prompt_number": 171
    },
    {
     "cell_type": "markdown",
     "metadata": {},
     "source": [
      "An equivalent way of picking items without replacement, is to shuffle the list into a random order, then you can iterate through the list, or pop items from the front of the list."
     ]
    },
    {
     "cell_type": "code",
     "collapsed": false,
     "input": [
      "states = ['Alabama', 'Alaska', 'Arizona', 'Arkansas', 'California', 'Colorado', 'Connecticut']\n",
      "random.shuffle(states)\n",
      "print states"
     ],
     "language": "python",
     "metadata": {},
     "outputs": [
      {
       "output_type": "stream",
       "stream": "stdout",
       "text": [
        "['Connecticut', 'California', 'Alaska', 'Arizona', 'Alabama', 'Arkansas', 'Colorado']\n"
       ]
      }
     ],
     "prompt_number": 172
    },
    {
     "cell_type": "markdown",
     "metadata": {},
     "source": [
      "Lets do another common example.  Say you want to simulate a card game, and you need to build and shuffle a deck of cards before drawing them for play."
     ]
    },
    {
     "cell_type": "code",
     "collapsed": false,
     "input": [
      "def make_deck():\n",
      "    ranks = ['A', '2', '3', '4', '5', '6', '7', '8', '9', '10', 'J', 'Q', 'K']\n",
      "    suits = ['C', 'D', 'H', 'S'] # Clubs, Diamonds, Hearts, Spades\n",
      "    deck = []\n",
      "    for s in suits:\n",
      "        for r in ranks:\n",
      "            deck.append(r + s)\n",
      "    random.shuffle(deck)\n",
      "    return deck\n",
      "\n",
      "d = make_deck()\n",
      "print d"
     ],
     "language": "python",
     "metadata": {},
     "outputs": [
      {
       "output_type": "stream",
       "stream": "stdout",
       "text": [
        "['AH', 'QH', 'KD', '2D', '6D', 'JS', '9C', '10H', 'QC', '4C', 'QS', '10C', '2S', 'JD', '3S', 'KH', '10D', '7C', '9S', '9D', '4D', '4S', '4H', '8H', 'AS', '3H', 'QD', '5D', '2H', 'AD', '6C', '9H', '10S', '7S', '8D', 'KC', '6S', 'JC', '3C', '6H', '8C', '8S', '7H', '3D', '5C', 'JH', '2C', '5H', '5S', 'KS', '7D', 'AC']\n"
       ]
      }
     ],
     "prompt_number": 158
    },
    {
     "cell_type": "markdown",
     "metadata": {},
     "source": [
      "Given the previously shuffled deck, we could simulate a card game, or whatever we need to do."
     ]
    },
    {
     "cell_type": "markdown",
     "metadata": {},
     "source": [
      "Blackjack\n",
      "----------\n",
      "\n",
      "Lets use our card shuffling function to simulate a lot of games of blackjack, and see if the odds favor playing against the\n",
      "house or not.  To keep this reasonable, we are going to use a subset of the real rules of the game.\n",
      "\n",
      "In blackjack, the dealer and player are each initially dealt 2 cards. The object of the game is to get as close \n",
      "to a total of 21, without going over.  The closest player to 21 but not over is the winner.  All numberd cards \n",
      "2-10 are worth that number of points.  All face cards, the Jack, Queen, and King, are worth 10 points.  \n",
      "Normally the Ace can be counted as 1 or 11 points, at the player's discretion.  (The suits do not matter \n",
      "and are not used in Blackjack).  To keep things simple for this simulation, Aces will always be counted as \n",
      "11 points.\n",
      "\n",
      "Normally in casinos, one way the house has an advantage is that the house is declared the winner if the player \n",
      "and the house have a tie score in their number of points.  This also goes for if both the player and\n",
      "the dealer go bust (are over 21) on the round, the dealer is also the winner in this case. We will \n",
      "use this advantage for the house, and show that playing long enough the \"house always wins\".  We will \n",
      "simulate a simple decision rule for both the player and the house, that if the current total of your \n",
      "hand is 11 points or less, then you will 'hit' (e.g. get  another card from the deck).  \n",
      "\n",
      "Lets first make a small modification to our deck of cards.  We will keep track of the points that each card\n",
      "is worth, to make counting up points easy:"
     ]
    },
    {
     "cell_type": "code",
     "collapsed": false,
     "input": [
      "def make_deck():\n",
      "    ranks  = ['A', '2', '3', '4', '5', '6', '7', '8', '9', '10', 'J', 'Q', 'K']\n",
      "    points = [11,   2,   3,   4,   5,   6,   7,   8,   9,   10,  10,  10,  10]\n",
      "    suits = ['C', 'D', 'H', 'S'] # Clubs, Diamonds, Hearts, Spades\n",
      "    deck = []\n",
      "    for s in suits:\n",
      "        for r,p in zip(ranks, points):\n",
      "            deck.append( (r + s, p) )\n",
      "    random.shuffle(deck)\n",
      "    return deck\n",
      "\n",
      "def is_deck_empty(d):\n",
      "    return len(d) == 0\n",
      "\n",
      "def count_points(h):\n",
      "    \"\"\"Given a list of cards (a hand), count the points of the cards and return this value\"\"\"\n",
      "    points = 0\n",
      "    for c in h:\n",
      "        points += c[1]\n",
      "    return points\n",
      "\n",
      "def draw_card(d):\n",
      "    \"\"\"Draw the top card from the deck and return it.  As a side effect, the deck is modified\n",
      "    to no longer have the card.  This function also check for an empty deck, so that it can\n",
      "    create a new shuffled deck whenever needed\n",
      "    \"\"\"\n",
      "    if is_deck_empty(d):\n",
      "        d = make_deck()\n",
      "        \n",
      "    c = d.pop()\n",
      "    return c\n",
      "\n",
      "d = make_deck()\n",
      "print d\n",
      "print count_points(d[:3])"
     ],
     "language": "python",
     "metadata": {},
     "outputs": [
      {
       "output_type": "stream",
       "stream": "stdout",
       "text": [
        "[('3C', 3), ('9D', 9), ('4C', 4), ('4H', 4), ('3S', 3), ('9C', 9), ('QS', 10), ('8H', 8), ('9S', 9), ('6D', 6), ('AH', 11), ('10C', 10), ('2D', 2), ('10D', 10), ('7H', 7), ('6S', 6), ('2H', 2), ('5D', 5), ('5C', 5), ('KC', 10), ('8C', 8), ('3H', 3), ('QC', 10), ('QH', 10), ('JH', 10), ('8S', 8), ('KS', 10), ('6C', 6), ('10H', 10), ('9H', 9), ('4D', 4), ('2S', 2), ('2C', 2), ('JC', 10), ('JD', 10), ('QD', 10), ('4S', 4), ('KD', 10), ('10S', 10), ('JS', 10), ('AD', 11), ('3D', 3), ('7S', 7), ('AS', 11), ('5H', 5), ('7D', 7), ('8D', 8), ('6H', 6), ('AC', 11), ('5S', 5), ('KH', 10), ('7C', 7)]\n",
        "16\n"
       ]
      }
     ],
     "prompt_number": 180
    },
    {
     "cell_type": "markdown",
     "metadata": {},
     "source": [
      "I also introduced 2 utility functions.  The first will simply be used to determine when we have dealt all the\n",
      "cards for a deck, and thus must shuffle/create a new deck.  The second can be used to count the points for a hand\n",
      "of cards, which was demonstrated by counting the points of the first 3 cards of the deck.\n",
      "\n",
      "The following code, then, will be a function that, given a deck of cards, simulates a single round of\n",
      "black jack.  We first deal 2 initial cards to the house and the player.  Then each player keeps drawing\n",
      "cards till their total is above 11.  The return value from this function is simply True if the player wins\n",
      "the round, and False if the dealer wins."
     ]
    },
    {
     "cell_type": "code",
     "collapsed": false,
     "input": [
      "def play_blackjack_round(d):\n",
      "    # deal 2 cards to the player and dealer\n",
      "    dealer_hand = []\n",
      "    player_hand = []\n",
      "    dealer_hand.append(draw_card(d))\n",
      "    player_hand.append(draw_card(d))\n",
      "    dealer_hand.append(draw_card(d))\n",
      "    player_hand.append(draw_card(d))\n",
      "\n",
      "    # player's turn first\n",
      "    while count_points(player_hand) <= 11:\n",
      "        player_hand.append(draw_card(d))\n",
      "        \n",
      "    # dealer's turn next\n",
      "    while count_points(dealer_hand) <= 11:\n",
      "        dealer_hand.append(draw_card(d))\n",
      "    \n",
      "    # return false if player went bust\n",
      "    if count_points(player_hand) > 21:\n",
      "        return False\n",
      "    # return true if the dealer went bust\n",
      "    if count_points(dealer_hand) > 21:\n",
      "        return True\n",
      "\n",
      "    # if no one is bust, the player wins only if they have more points\n",
      "    if count_points(player_hand) > count_points(dealer_hand):\n",
      "        return True\n",
      "    else:\n",
      "        return False"
     ],
     "language": "python",
     "metadata": {},
     "outputs": [],
     "prompt_number": 191
    },
    {
     "cell_type": "code",
     "collapsed": false,
     "input": [
      "# lets simulate a few rounds, to see if seems to be working...\n",
      "d = make_deck()\n",
      "for round in range(5):\n",
      "    if play_blackjack_round(d) == True:\n",
      "        print \"The player wins!\"\n",
      "    else:\n",
      "        print \"The dealer wins :-(\""
     ],
     "language": "python",
     "metadata": {},
     "outputs": [
      {
       "output_type": "stream",
       "stream": "stdout",
       "text": [
        "The player wins!\n",
        "The dealer wins :-(\n",
        "The dealer wins :-(\n",
        "The dealer wins :-(\n",
        "The dealer wins :-(\n"
       ]
      }
     ],
     "prompt_number": 194
    },
    {
     "cell_type": "markdown",
     "metadata": {},
     "source": [
      "Ok, lets simulate a larger number of games.   We will bet $1 on each round, thus the player gains a dollar on each\n",
      "win, and looses a dollar on each loss.  Lets see what he end up with after 100,000 blackjack hands, with the\n",
      "house advantages the dealer has:"
     ]
    },
    {
     "cell_type": "code",
     "collapsed": false,
     "input": [
      "bank_roll = 0\n",
      "ROUNDS = int(1e5)\n",
      "d = make_deck()\n",
      "for r in range(0, ROUNDS):\n",
      "    if play_blackjack_round(d): # if true the player won!\n",
      "        bank_roll += 1\n",
      "    else: # if false, the house won :-(\n",
      "        bank_roll -= 1\n",
      "        \n",
      "print \"After %d rounds, player has $%d\" % (ROUNDS, bank_roll)"
     ],
     "language": "python",
     "metadata": {},
     "outputs": [
      {
       "output_type": "stream",
       "stream": "stdout",
       "text": [
        "After 100000 rounds, player has $-10136\n"
       ]
      }
     ],
     "prompt_number": 265
    },
    {
     "cell_type": "markdown",
     "metadata": {},
     "source": [
      "Try it out a few times with only 100 hands, you will ocassionally see that you come out ahead.  But with \n",
      "a large enough number of rounds, and the advantages the house has on winning ties, you will pretty much always find out\n",
      "that the house always wins."
     ]
    },
    {
     "cell_type": "code",
     "collapsed": false,
     "input": [
      "%reload_ext version_information\n",
      "\n",
      "%version_information numpy, scipy, matplotlib"
     ],
     "language": "python",
     "metadata": {},
     "outputs": [
      {
       "html": [
        "<table><tr><th>Software</th><th>Version</th></tr><tr><td>Python</td><td>2.7.4 (default, Apr 19 2013, 18:28:01) [GCC 4.7.3]</td></tr><tr><td>IPython</td><td>0.13.2</td></tr><tr><td>OS</td><td>posix [linux2]</td></tr><tr><td>numpy</td><td>1.7.1</td></tr><tr><td>scipy</td><td>0.11.0</td></tr><tr><td>matplotlib</td><td>1.2.1</td></tr><tr><td colspan='2'>Sat Aug 24 12:55:49 2013 CDT</td></tr></table>"
       ],
       "json": [
        "{ \"Software versions\" : [{ \"module\" : \"Python\", \"version\" : \"2.7.4 (default, Apr 19 2013, 18:28:01) [GCC 4.7.3]\" }, { \"module\" : \"IPython\", \"version\" : \"0.13.2\" }, { \"module\" : \"OS\", \"version\" : \"posix [linux2]\" }, { \"module\" : \"numpy\", \"version\" : \"1.7.1\" }, { \"module\" : \"scipy\", \"version\" : \"0.11.0\" }, { \"module\" : \"matplotlib\", \"version\" : \"1.2.1\" } ] }"
       ],
       "latex": [
        "\\begin{tabular}{|l|l|}\\hline\n",
        "{\\bf Software} & {\\bf Version} \\\\ \\hline\\hline\n",
        "Python & 2.7.4 (default, Apr 19 2013, 18:28:01) [GCC 4.7.3] \\\\ \\hline\n",
        "IPython & 0.13.2 \\\\ \\hline\n",
        "OS & posix [linux2] \\\\ \\hline\n",
        "numpy & 1.7.1 \\\\ \\hline\n",
        "scipy & 0.11.0 \\\\ \\hline\n",
        "matplotlib & 1.2.1 \\\\ \\hline\n",
        "\\hline \\multicolumn{2}{|l|}{Sat Aug 24 12:55:49 2013 CDT} \\\\ \\hline\n",
        "\\end{tabular}\n"
       ],
       "output_type": "pyout",
       "prompt_number": 168,
       "text": [
        "Software versions\n",
        "Python 2.7.4 (default, Apr 19 2013, 18:28:01) [GCC 4.7.3]\n",
        "IPython 0.13.2\n",
        "OS posix [linux2]\n",
        "numpy 1.7.1\n",
        "scipy 0.11.0\n",
        "matplotlib 1.2.1\n",
        "\n",
        "Sat Aug 24 12:55:49 2013 CDT"
       ]
      }
     ],
     "prompt_number": 168
    }
   ],
   "metadata": {}
  }
 ]
}