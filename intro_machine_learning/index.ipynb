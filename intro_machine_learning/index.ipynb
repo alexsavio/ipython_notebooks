{
 "metadata": {
  "name": "",
  "signature": "sha256:c6c71e95abbc1977c6e4798a66ae42d59fe42d33d38d8c8b78ce665034781371"
 },
 "nbformat": 3,
 "nbformat_minor": 0,
 "worksheets": [
  {
   "cells": [
    {
     "cell_type": "heading",
     "level": 1,
     "metadata": {},
     "source": [
      "Introduction to Machine Learning on Python"
     ]
    },
    {
     "cell_type": "markdown",
     "metadata": {},
     "source": [
      "Alexandre M. S. (alexsavio@gmail.com) http://alexsavio.github.io/"
     ]
    },
    {
     "cell_type": "markdown",
     "metadata": {},
     "source": [
      "+ [Scikit-Learn 101](IntroSklearn.ipynb)\n",
      "\n",
      "+ [Scikit-Learn 102](IntermediateSklearn.ipynb)\n",
      "\n",
      "+ [Random Numbers](Random-Numbers-and-Stochastic-Monte-Carlo-Simulations-PartA.ipynb)\n",
      "\n",
      "+ [Principal Component Analysis (PCA)](principal_component_analysis.ipynb)\n",
      "\n",
      "+ [Maximum Likelihood Estimate (MLE)](maximum_likelihood_estimate.ipynb)\n",
      "\n",
      "+ [Parzen Window Technique](parzen_window_technique.ipynb)\n",
      "\n",
      "+ [Monte-Carlo Simulations](Random-Numbers-and-Stochastic-Monte-Carlo-Simulations-PartB.ipynb)\n",
      "\n",
      "+ [MCMC and MH370-Flight](MCMC_on_MH370_Flight-V3.ipynb)\n",
      "\n",
      "+ [MCMC and MH370-Flight](MCMC_on_MH370_Flight-V3.ipynb)"
     ]
    },
    {
     "cell_type": "markdown",
     "metadata": {},
     "source": [
      "References\n",
      "---\n",
      "+ https://github.com/ehmatthes/intro_programming"
     ]
    }
   ],
   "metadata": {}
  }
 ]
}