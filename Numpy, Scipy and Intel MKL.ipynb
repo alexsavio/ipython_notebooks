{
 "metadata": {
  "name": ""
 },
 "nbformat": 3,
 "nbformat_minor": 0,
 "worksheets": [
  {
   "cells": [
    {
     "cell_type": "markdown",
     "metadata": {},
     "source": [
      "### Install C++ Composer and FORTRAN Composer, with MKL\n",
      "\n",
      "###### Tested on Ubuntu 13.10"
     ]
    },
    {
     "cell_type": "markdown",
     "metadata": {},
     "source": [
      "#### Fill forms and download online installation shell scripts from:\n",
      "\n",
      "http://software.intel.com/en-us/non-commercial-software-development"
     ]
    },
    {
     "cell_type": "markdown",
     "metadata": {},
     "source": [
      "#### Execute shell scripts with sudo\n",
      "\n",
      "The libraries will be installed in /opt/intel"
     ]
    },
    {
     "cell_type": "markdown",
     "metadata": {},
     "source": [
      "#### Once installed, add this to ~/.bashrc"
     ]
    },
    {
     "cell_type": "raw",
     "metadata": {},
     "source": [
      "    #Intel C++ Studio\n",
      "    if [ -d /opt/intel ]; \n",
      "    then\n",
      "        export INTEL_HOME=/opt/intel\n",
      "        export PATH=${PATH}:${INTEL_HOME}/bin\n",
      "        export LD_LIBRARY_PATH=/opt/intel/mkl/lib/intel64:/opt/intel/lib/intel64:${LD_LIBRARY_PATH}\n",
      "    fi"
     ]
    },
    {
     "cell_type": "markdown",
     "metadata": {},
     "source": [
      "#### Add this to /etc/ld.so.conf.d/intel.conf:"
     ]
    },
    {
     "cell_type": "raw",
     "metadata": {},
     "source": [
      "/opt/intel/lib/intel64\n",
      "/opt/intel/lib/intel64/irml\n",
      "/opt/intel/lib/intel64/crt\n",
      "/opt/intel/mkl/lib/intel64"
     ]
    },
    {
     "cell_type": "markdown",
     "metadata": {},
     "source": [
      "#### Open a new terminal."
     ]
    },
    {
     "cell_type": "markdown",
     "metadata": {},
     "source": [
      "#### Download Numpy and Scipy:\n",
      "\n",
      "http://www.scipy.org/scipylib/download.html"
     ]
    },
    {
     "cell_type": "markdown",
     "metadata": {},
     "source": [
      "#### Modify Numpy source code:"
     ]
    },
    {
     "cell_type": "raw",
     "metadata": {},
     "source": [
      "Change directory to numpy-x.x.x\n",
      "Create a site.cfg from the existing one\n",
      "\n",
      "Edit site.cfg as follows:\n",
      "\n",
      "Add the following lines to site.cfg in your top level NumPy directory to use Intel\u00ae MKL, if you are building on Intel 64 platform, assuming the default path for the Intel MKL installation from the Intel Parallel Studio XE 2013 or Intel Composer XE 2013 versions:\n",
      "\n",
      "[mkl]\n",
      "library_dirs = /opt/intel/mkl/lib/intel64\n",
      "include_dirs = /opt/intel/mkl/include\n",
      "mkl_libs = mkl_rt\n",
      "lapack_libs =\n",
      "\n",
      "\n",
      "If you are building NumPy for 32 bit, please add as the following\n",
      "\n",
      "[mkl] \n",
      "library_dirs = /opt/intel/mkl/lib/ia32\n",
      "include_dirs = /opt/intel/mkl/include\n",
      "mkl_libs = mkl_rt\n",
      "lapack_libs =\n",
      "\n",
      "Modify cc_exe in numpy/distutils/intelccompiler.py to be something like:\n",
      "\n",
      "self.cc_exe = 'icc -O3 -g -fPIC -fp-model strict -fomit-frame-pointer -openmp -xhost' \n",
      "\n",
      "Here we use, -O3, optimizations for speed and enables more aggressive loop transformations such as Fusion, Block-Unroll-and-Jam, and collapsing IF statements, -openmp for OpenMP threading and -xhost option tells the compiler to generate instructions for the highest instruction set available on the compilation host processor. If you are using the ILP64 interface, please add -DMKL_ILP64 compiler flag.\n",
      "\n",
      "Run icc --help for more information on processor-specific options, and refer Intel Compiler documentation for more details on the various compiler flags.\n",
      "\n",
      "Modify the the Fortran compiler configuration in numpy-x.x.x/numpy/distutil/fcompiler/intel.py to use the following compiler options for the Intel Fortran Compiler:\n",
      "\n",
      "For ia32 and Intel64\n",
      "\n",
      "ifort -xhost -openmp -fp-model strict -fPIC\n",
      "\n",
      "\n",
      "If you are using ILP64 interface of Intel MKL, please add -i8 flag above.  If you are using older versions of Numpy/SciPy, please refer the new intel.py for your reference from the latest version of NumPy, which can be replaced to use the above mentioned compiler options."
     ]
    },
    {
     "cell_type": "markdown",
     "metadata": {},
     "source": [
      "#### Compile Numpy and Scipy with the following command (once for Numpy and then once for Scipy):\n",
      "\n",
      "Remember to activate the virtual environment if you are going to use this in one.\n",
      "\n",
      "##### For 64-bit:\n",
      "\n",
      "    cd <numpy-x.x.x>\n",
      "    python setup.py config --compiler=intelem --fcompiler=intelem build_clib --compiler=intelem --fcompiler=intelem build_ext --compiler=intelem --fcompiler=intelem install\n",
      "    \n",
      "    cd <scipy-x.x.x>\n",
      "    python setup.py config --compiler=intelem --fcompiler=intelem build_clib --compiler=intelem --fcompiler=intelem build_ext --compiler=intelem --fcompiler=intelem install\n",
      "    \n",
      "##### For 32-bit:\n",
      "\n",
      "    cd <numpy-x.x.x>\n",
      "    python setup.py config --compiler=intel --fcompiler=intel build_clib --compiler=intel --fcompiler=intel build_ext --compiler=intel --fcompiler=intel install\n",
      "\n",
      "    cd <scipy-x.x.x>\n",
      "    python setup.py config --compiler=intelem --fcompiler=intelem build_clib --compiler=intelem --fcompiler=intelem build_ext --compiler=intelem --fcompiler=intelem install"
     ]
    },
    {
     "cell_type": "markdown",
     "metadata": {},
     "source": [
      "#### Troubleshooting:\n",
      "\n",
      "##### Compiling Scipy: \"Using deprecated NumPy API, disable it by \"\n",
      " \n",
      "Maybe it is the version of GCC, try using 4.7 (worked on November 2013).\n",
      "\n",
      "    sudo apt-get install gcc-4.7\n",
      "    sudo rm /usr/bin/gcc\n",
      "    sudo ln -s /usr/bin/gcc-4.7 /usr/bin/gcc\n",
      "\n",
      "Compile both Numpy and Scipy again.\n"
     ]
    }
   ],
   "metadata": {}
  }
 ]
}