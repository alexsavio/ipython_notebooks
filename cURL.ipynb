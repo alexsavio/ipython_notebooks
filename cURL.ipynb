{
 "metadata": {
  "name": ""
 },
 "nbformat": 3,
 "nbformat_minor": 0,
 "worksheets": [
  {
   "cells": [
    {
     "cell_type": "raw",
     "metadata": {},
     "source": [
      "server=http://127.0.0.1:8080/api\n",
      "\n",
      "hjson='-H \"Content-Type: application/json\"'\n",
      "hxml='-H \"Content-Type: application/xml\"'\n",
      "\n",
      "header='json'\n",
      "#header='xml'\n",
      "if [ $header == 'json' ]\n",
      "then\n",
      "    H=${hjson}\n",
      "elif [ $header == 'xml' ]\n",
      "then\n",
      "    H=${hxml}\n",
      "fi\n",
      "\n",
      "\n",
      "curl -i ${H} -X GET ${server}/user\n",
      "\n",
      "curl -i ${hjson} -X POST -d '{\"name\": \"alexsavio\", \"age\":31}' -i ${server}/user\n",
      "\n",
      "curl ${H} -i ${server}/user\n",
      "\n",
      "curl -i ${server}/user/529e0fcab93af65cf5c7f919\n",
      "\n",
      "curl -H \"X-HTTP-Method-Override\"  -d -i ${server}/user/529e0fcab93af65cf5c7f919"
     ]
    }
   ],
   "metadata": {}
  }
 ]
}